{
 "cells": [
  {
   "cell_type": "code",
   "execution_count": 1,
   "metadata": {},
   "outputs": [],
   "source": [
    "import program\n",
    "\n",
    "# CARA MENJALANKAN PROGRAM\n",
    "# TEKAN TOMBOL RUN PADA TOOLBAR DI ATAS ATAU TEKAN SHIFT+ENTER\n",
    "# PADA TIAP SEL SECARA BERURUTAN\n",
    "\n",
    "# Program dibuat oleh Dzaki Muhammad 13519049 dan Rezda Abdullah F 13519194\n",
    "# Untuk memenuhi Tugas Kecil 3 Strategi Algoritma IF2211 2020/2021"
   ]
  },
  {
   "cell_type": "code",
   "execution_count": null,
   "metadata": {},
   "outputs": [],
   "source": [
    "program.start()"
   ]
  },
  {
   "cell_type": "code",
   "execution_count": null,
   "metadata": {},
   "outputs": [],
   "source": [
    "program.process()"
   ]
  }
 ],
 "metadata": {
  "kernelspec": {
   "display_name": "Python 3",
   "language": "python",
   "name": "python3"
  },
  "language_info": {
   "codemirror_mode": {
    "name": "ipython",
    "version": 3
   },
   "file_extension": ".py",
   "mimetype": "text/x-python",
   "name": "python",
   "nbconvert_exporter": "python",
   "pygments_lexer": "ipython3",
   "version": "3.7.9"
  }
 },
 "nbformat": 4,
 "nbformat_minor": 5
}

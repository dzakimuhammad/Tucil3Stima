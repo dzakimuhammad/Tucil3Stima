{
 "cells": [
  {
   "cell_type": "code",
   "execution_count": 1,
   "id": "501e0d32",
   "metadata": {},
   "outputs": [],
   "source": [
    "import program"
   ]
  },
  {
   "cell_type": "code",
   "execution_count": null,
   "id": "c24aed2e",
   "metadata": {},
   "outputs": [],
   "source": [
    "program.start()"
   ]
  },
  {
   "cell_type": "code",
   "execution_count": null,
   "id": "6d10bed2",
   "metadata": {},
   "outputs": [],
   "source": [
    "program.process()"
   ]
  }
 ],
 "metadata": {
  "kernelspec": {
   "display_name": "Python 3",
   "language": "python",
   "name": "python3"
  },
  "language_info": {
   "codemirror_mode": {
    "name": "ipython",
    "version": 3
   },
   "file_extension": ".py",
   "mimetype": "text/x-python",
   "name": "python",
   "nbconvert_exporter": "python",
   "pygments_lexer": "ipython3",
   "version": "3.8.2"
  }
 },
 "nbformat": 4,
 "nbformat_minor": 5
}

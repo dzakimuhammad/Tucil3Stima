{
 "cells": [
  {
   "cell_type": "code",
   "execution_count": 1,
   "id": "d0118949",
   "metadata": {},
   "outputs": [],
   "source": [
    "import program\n",
    "\n",
    "# CARA MENJALANKAN PROGRAM\n",
    "# TEKAN TOMBOL RUN PADA TOOLBAR DI ATAS ATAU TEKAN SHIFT+ENTER\n",
    "# PADA TIAP SEL SECARA BERURUTAN\n",
    "\n",
    "# Program dibuat oleh Dzaki Muhammad 13519049 dan Rezda Abdullah F 13519194\n",
    "# Untuk memenuhi Tugas Kecil 3 Strategi Algoritma IF2211 2020/2021"
   ]
  },
  {
   "cell_type": "code",
   "execution_count": null,
   "id": "21b92278",
   "metadata": {},
   "outputs": [],
   "source": [
    "# set tipe visualisasi graf\n",
    "# in case graf gabisa digambar karena tipenya g sesuai, dicoba aja salah satu dari yang lain (default = 0 = planar)\n",
    "\n",
    "# -1 = use x y position\n",
    "# 0 = planar (default)\n",
    "# 1 = circular\n",
    "# 2 = spectral\n",
    "# 3 = spring\n",
    "# 4 = shell\n",
    "\n",
    "tipe = 0\n",
    "program.setgraphtype(tipe)"
   ]
  },
  {
   "cell_type": "code",
   "execution_count": null,
   "id": "b64f9937",
   "metadata": {},
   "outputs": [],
   "source": [
    "program.start()"
   ]
  },
  {
   "cell_type": "code",
   "execution_count": null,
   "id": "04ef6a0e",
   "metadata": {},
   "outputs": [],
   "source": [
    "program.process()"
   ]
  }
 ],
 "metadata": {
  "kernelspec": {
   "display_name": "Python 3",
   "language": "python",
   "name": "python3"
  },
  "language_info": {
   "codemirror_mode": {
    "name": "ipython",
    "version": 3
   },
   "file_extension": ".py",
   "mimetype": "text/x-python",
   "name": "python",
   "nbconvert_exporter": "python",
   "pygments_lexer": "ipython3",
   "version": "3.8.2"
  }
 },
 "nbformat": 4,
 "nbformat_minor": 5
}
